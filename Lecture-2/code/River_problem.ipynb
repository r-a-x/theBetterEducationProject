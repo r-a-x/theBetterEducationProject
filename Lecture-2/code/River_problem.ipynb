{
 "cells": [
  {
   "cell_type": "code",
   "execution_count": 1,
   "metadata": {},
   "outputs": [],
   "source": [
    "from collections import defaultdict\n",
    "import itertools\n",
    "value={}\n",
    "value['boat'] = 423\n",
    "value['l'] = 1\n",
    "value['b1'] = 180\n",
    "value['b2'] = 1000\n",
    "value['a'] = 100000"
   ]
  },
  {
   "cell_type": "code",
   "execution_count": 2,
   "metadata": {},
   "outputs": [],
   "source": [
    "# restricted states of river banks and boat\n",
    "restrictedRiverbank = [['l']]\n",
    "restrictedBoat = [['a','b1'],['a','b2'],['a','l'],['l']]\n",
    "\n",
    "driverArr = ['a','b1','b2']\n",
    "\n",
    "# boat capacity\n",
    "boatCapacity = 2\n",
    "\n",
    "initState = [['a','l','b1','b2','boat'],[]]"
   ]
  },
  {
   "cell_type": "code",
   "execution_count": 3,
   "metadata": {},
   "outputs": [],
   "source": [
    "def validateRiverbank(side):\n",
    "    for i in restrictedRiverbank:\n",
    "        if set(i) == set(side):\n",
    "            return False\n",
    "    return True"
   ]
  },
  {
   "cell_type": "code",
   "execution_count": 4,
   "metadata": {},
   "outputs": [],
   "source": [
    "def validateBoat(arr):\n",
    "    for i in restrictedBoat:\n",
    "        if set(i) == set(arr):\n",
    "            return False\n",
    "    flag = 0\n",
    "    for i in arr:\n",
    "        if i in driverArr:\n",
    "            flag = 1\n",
    "    if flag == 0:\n",
    "        return False\n",
    "    return True"
   ]
  },
  {
   "cell_type": "code",
   "execution_count": 5,
   "metadata": {},
   "outputs": [],
   "source": [
    "def thingsOtherthan(things,side):\n",
    "    return [i for i in side if i not in set(things)]"
   ]
  },
  {
   "cell_type": "code",
   "execution_count": 6,
   "metadata": {},
   "outputs": [],
   "source": [
    "def generateNext(state):\n",
    "    if 'boat' in state[0]:\n",
    "        return generateNextUtil(state[0],state[1],False)\n",
    "    return generateNextUtil(state[1],state[0],True)"
   ]
  },
  {
   "cell_type": "code",
   "execution_count": 7,
   "metadata": {},
   "outputs": [],
   "source": [
    "def generateNextUtil(source,destination,isSwapReq):\n",
    "    com = list(itertools.combinations_with_replacement(set(source)-set(['boat']),boatCapacity))\n",
    "    \n",
    "    nextState = []\n",
    "    for things in com:\n",
    "        if validateBoat(things):\n",
    "            d = destination.copy()\n",
    "            if not isSwapReq:\n",
    "                d.extend(set(things))\n",
    "                nextState.append([thingsOtherthan(things+('boat',),source),d+['boat']])\n",
    "            elif isSwapReq:\n",
    "                d.extend(set(things))\n",
    "                nextState.append([d+['boat'],thingsOtherthan(things+('boat',),source)])\n",
    "    return nextState"
   ]
  },
  {
   "cell_type": "code",
   "execution_count": 8,
   "metadata": {},
   "outputs": [],
   "source": [
    "def mapstateToKey(state):\n",
    "    key = 0\n",
    "    for thing in state[0]:\n",
    "        key +=value[thing]\n",
    "    for thing in state[1]:\n",
    "        key -=value[thing]\n",
    "    return key"
   ]
  },
  {
   "cell_type": "code",
   "execution_count": 9,
   "metadata": {},
   "outputs": [],
   "source": [
    "def isEnd(state):\n",
    "    if set(state[1]) == set(initState[0]):\n",
    "        return True\n",
    "    return False"
   ]
  },
  {
   "cell_type": "code",
   "execution_count": 10,
   "metadata": {},
   "outputs": [],
   "source": [
    "def solve(initState):\n",
    "    visited = defaultdict(lambda:float('inf'))\n",
    "    q = [initState]\n",
    "    visited[mapstateToKey(initState)] = 0\n",
    "    while len(q)!=0:\n",
    "        cur = q.pop(0)\n",
    "#         print('\\ncur = ',cur)\n",
    "        if isEnd(cur):\n",
    "            return visited[mapstateToKey(cur)]\n",
    "        nextStates = generateNext(cur)\n",
    "        for state in nextStates:\n",
    "            if validateRiverbank(state[0]) and validateRiverbank(state[1]):\n",
    "                if visited[mapstateToKey(state)]==float('inf'):\n",
    "                    q.append(state)\n",
    "                    visited[mapstateToKey(state)] = visited[mapstateToKey(cur)]+1"
   ]
  },
  {
   "cell_type": "code",
   "execution_count": 11,
   "metadata": {},
   "outputs": [
    {
     "data": {
      "text/plain": [
       "7"
      ]
     },
     "execution_count": 11,
     "metadata": {},
     "output_type": "execute_result"
    }
   ],
   "source": [
    "solve(initState)"
   ]
  },
  {
   "cell_type": "code",
   "execution_count": 12,
   "metadata": {},
   "outputs": [],
   "source": [
    "value={}\n",
    "value['boat'] = 423\n",
    "value['f'] = 1\n",
    "value['w'] = 180\n",
    "value['g'] = 1000\n",
    "value['c'] = 100000\n",
    "# restricted states of river banks and boat\n",
    "restrictedRiverbank = [['g','w'],['g','c']]\n",
    "restrictedBoat = []\n",
    "\n",
    "driverArr = ['f']\n",
    "\n",
    "# boat capacity\n",
    "boatCapacity = 2\n",
    "\n",
    "initState = [['f','g','c','w','boat'],[]]"
   ]
  },
  {
   "cell_type": "code",
   "execution_count": 13,
   "metadata": {},
   "outputs": [
    {
     "data": {
      "text/plain": [
       "7"
      ]
     },
     "execution_count": 13,
     "metadata": {},
     "output_type": "execute_result"
    }
   ],
   "source": [
    "solve(initState)"
   ]
  },
  {
   "cell_type": "code",
   "execution_count": 14,
   "metadata": {},
   "outputs": [],
   "source": [
    "value={}\n",
    "value['boat'] = 423\n",
    "value['A1'] = 1\n",
    "value['A2'] = 180\n",
    "value['C1'] = 1000\n",
    "value['C2'] = 100000\n",
    "# restricted states of river banks and boat\n",
    "restrictedRiverbank = []\n",
    "restrictedBoat = [['A1','A2'],\n",
    "                   ['A1','C1'],\n",
    "                   ['A1','C2'],\n",
    "                   ['A2','C1'],\n",
    "                   ['A2','C2'],]\n",
    "\n",
    "driverArr = ['A1','A2','C1','C2']\n",
    "\n",
    "# boat capacity\n",
    "boatCapacity = 2\n",
    "\n",
    "initState = [['A1','A2','C1','C2','boat'],[]]"
   ]
  },
  {
   "cell_type": "code",
   "execution_count": 15,
   "metadata": {},
   "outputs": [
    {
     "data": {
      "text/plain": [
       "9"
      ]
     },
     "execution_count": 15,
     "metadata": {},
     "output_type": "execute_result"
    }
   ],
   "source": [
    "solve(initState)"
   ]
  },
  {
   "cell_type": "code",
   "execution_count": null,
   "metadata": {},
   "outputs": [],
   "source": []
  }
 ],
 "metadata": {
  "kernelspec": {
   "display_name": "Python 3",
   "language": "python",
   "name": "python3"
  },
  "language_info": {
   "codemirror_mode": {
    "name": "ipython",
    "version": 3
   },
   "file_extension": ".py",
   "mimetype": "text/x-python",
   "name": "python",
   "nbconvert_exporter": "python",
   "pygments_lexer": "ipython3",
   "version": "3.7.3"
  }
 },
 "nbformat": 4,
 "nbformat_minor": 2
}
