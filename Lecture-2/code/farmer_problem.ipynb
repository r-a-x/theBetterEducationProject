{
 "cells": [
  {
   "cell_type": "code",
   "execution_count": 1,
   "metadata": {},
   "outputs": [],
   "source": [
    "from collections import defaultdict\n",
    "value={}\n",
    "value['f'] = 1\n",
    "value['w'] = 180\n",
    "value['g'] = 1000\n",
    "value['c'] = 100000"
   ]
  },
  {
   "cell_type": "code",
   "execution_count": 2,
   "metadata": {},
   "outputs": [],
   "source": [
    "def thingsOtherthan(things,side):\n",
    "    return [i for i in side if i not in things]"
   ]
  },
  {
   "cell_type": "code",
   "execution_count": 3,
   "metadata": {},
   "outputs": [],
   "source": [
    "def generateNextUtil(source , destination , isSwapReq):\n",
    "    nextState = []\n",
    "    for thing in source:\n",
    "        d = destination.copy()\n",
    "        if not isSwapReq:\n",
    "            d.extend(set([thing,'f']))\n",
    "            nextState.append([thingsOtherthan([thing,'f'],source),d])\n",
    "        elif isSwapReq:\n",
    "            d.extend(set([thing,'f']))\n",
    "            nextState.append([d,thingsOtherthan([thing,'f'],source)])\n",
    "    return nextState"
   ]
  },
  {
   "cell_type": "code",
   "execution_count": 4,
   "metadata": {},
   "outputs": [],
   "source": [
    "def generateNext(state):\n",
    "    if 'f' in state[0]:\n",
    "        return generateNextUtil(state[0],state[1],False)\n",
    "    return generateNextUtil(state[1],state[0],True)"
   ]
  },
  {
   "cell_type": "code",
   "execution_count": 5,
   "metadata": {},
   "outputs": [],
   "source": [
    "def validateStateUtil(side):\n",
    "    if 'w' in side and 'g' in side:\n",
    "        return False\n",
    "    if 'c' in side and 'g' in side:\n",
    "        return False\n",
    "    return True"
   ]
  },
  {
   "cell_type": "code",
   "execution_count": 6,
   "metadata": {},
   "outputs": [],
   "source": [
    "def validateState(state):\n",
    "    leftSide = state[0]\n",
    "    rightSide = state[1]\n",
    "    if 'f' not in leftSide:\n",
    "        return validateStateUtil(leftSide)\n",
    "    return validateStateUtil(rightSide)"
   ]
  },
  {
   "cell_type": "code",
   "execution_count": 7,
   "metadata": {},
   "outputs": [],
   "source": [
    "def mapstateToKey(state):\n",
    "    key = 0\n",
    "    for thing in state[0]:\n",
    "        key +=value[thing]\n",
    "    for thing in state[1]:\n",
    "        key -=value[thing]\n",
    "    return key"
   ]
  },
  {
   "cell_type": "code",
   "execution_count": 8,
   "metadata": {},
   "outputs": [],
   "source": [
    "def isEnd(state):\n",
    "    if set(state[1]) == set(['f','g','c','w']):\n",
    "        return True\n",
    "    return False"
   ]
  },
  {
   "cell_type": "code",
   "execution_count": 9,
   "metadata": {},
   "outputs": [],
   "source": [
    "def solve():\n",
    "    visited = defaultdict(lambda:float('inf'))\n",
    "    initState = [['f','g','c','w'],[]]\n",
    "    q = [initState]\n",
    "    visited[mapstateToKey(initState)] = 0\n",
    "    while len(q)!=0:\n",
    "        cur = q.pop(0)\n",
    "        print('\\ncur = ',cur)\n",
    "        if isEnd(cur):\n",
    "            return visited[mapstateToKey(cur)]\n",
    "        nextStates = generateNext(cur)\n",
    "        for state in nextStates:\n",
    "            if validateState(state):\n",
    "                if visited[mapstateToKey(state)]==float('inf'):\n",
    "                    q.append(state)\n",
    "                    visited[mapstateToKey(state)] = visited[mapstateToKey(cur)]+1"
   ]
  },
  {
   "cell_type": "code",
   "execution_count": 10,
   "metadata": {},
   "outputs": [
    {
     "name": "stdout",
     "output_type": "stream",
     "text": [
      "\n",
      "cur =  [['f', 'g', 'c', 'w'], []]\n",
      "\n",
      "cur =  [['c', 'w'], ['g', 'f']]\n",
      "\n",
      "cur =  [['c', 'w', 'f'], ['g']]\n",
      "\n",
      "cur =  [['w'], ['g', 'c', 'f']]\n",
      "\n",
      "cur =  [['c'], ['g', 'f', 'w']]\n",
      "\n",
      "cur =  [['w', 'g', 'f'], ['c']]\n",
      "\n",
      "cur =  [['c', 'g', 'f'], ['w']]\n",
      "\n",
      "cur =  [['g'], ['c', 'f', 'w']]\n",
      "\n",
      "cur =  [['g', 'f'], ['c', 'w']]\n",
      "\n",
      "cur =  [[], ['c', 'w', 'g', 'f']]\n"
     ]
    },
    {
     "data": {
      "text/plain": [
       "7"
      ]
     },
     "execution_count": 10,
     "metadata": {},
     "output_type": "execute_result"
    }
   ],
   "source": [
    "solve()"
   ]
  }
 ],
 "metadata": {
  "kernelspec": {
   "display_name": "Python 3",
   "language": "python",
   "name": "python3"
  },
  "language_info": {
   "codemirror_mode": {
    "name": "ipython",
    "version": 3
   },
   "file_extension": ".py",
   "mimetype": "text/x-python",
   "name": "python",
   "nbconvert_exporter": "python",
   "pygments_lexer": "ipython3",
   "version": "3.7.3"
  }
 },
 "nbformat": 4,
 "nbformat_minor": 2
}
